{
 "cells": [
  {
   "cell_type": "markdown",
   "metadata": {},
   "source": [
    "## Fitting a line to data, and calculating chi-squared\n",
    "Here we explore how to fit data using a linear fit, extract errors in the estimated polynomial coefficients, and compute chi-squared for this fit, which tells us how well the model matches the data."
   ]
  },
  {
   "cell_type": "code",
   "execution_count": 1,
   "metadata": {
    "collapsed": true
   },
   "outputs": [],
   "source": [
    "# import libraries  \n",
    "import numpy as np  \n",
    "import matplotlib.pyplot as plt  \n",
    "%matplotlib inline"
   ]
  },
  {
   "cell_type": "code",
   "execution_count": 174,
   "metadata": {
    "collapsed": true
   },
   "outputs": [],
   "source": [
    "####################################  \n",
    "# user-modified area:  \n",
    "xaxis_label = 'Current I (Amps)'  \n",
    "yaxis_label = 'Frequency f (MHz)'  \n",
    "title = 'Tuning curve for \\ncurrent-controlled oscillator circuit'  \n",
    "\n",
    "ydata_std = 1 # standard deviation of data points\n",
    "                # defined by the user (in this case, same std for all points)\n",
    "\n",
    "###################################  "
   ]
  },
  {
   "cell_type": "code",
   "execution_count": 175,
   "metadata": {
    "collapsed": true
   },
   "outputs": [],
   "source": [
    "# loading data:\n",
    "# filename= 'testData2.csv'  \n",
    "# data = np.genfromtxt(filename,delimiter=',')  \n",
    "# x_values = data[:,0]\n",
    "# y_values = data[:,1]\n",
    "\n",
    "# define data:\n",
    "x_values = np.array([0,0.2,0.4,0.6,0.8,1.0,1.2])\n",
    "y_values = np.array([0.16,0.52,1.28,1.50,2.34,3.01,3.90])"
   ]
  },
  {
   "cell_type": "code",
   "execution_count": 176,
   "metadata": {
    "collapsed": false
   },
   "outputs": [
    {
     "name": "stdout",
     "output_type": "stream",
     "text": [
      "y = m*x + b , where: m =  3.08214285714 , b =  -0.0335714285714\n",
      "m error =  0.251669594973\n",
      "b error =  0.18148152583\n"
     ]
    }
   ],
   "source": [
    "# fit a polynomial to the data, and estimate errors in coefficients based on covariance matrix\n",
    "  \n",
    "# reminder of the inputs for polyfit:  \n",
    "#numpy.polyfit(x, y, deg, rcond=None, full=False, w=None, cov=False)  \n",
    "  \n",
    "p,cov = np.polyfit(x_values, y_values, 1,cov=True)  \n",
    "polyfxn = p[0]*x_values+p[1]  \n",
    "print(\"y = m*x + b , where: m = \", p[0],\", b = \",p[1])\n",
    "  \n",
    "# calculate error on fit parameters: the covariance   \n",
    "# diagonal elements are what you want -- their sqrt makes it a standard deviation \n",
    "# http://stackoverflow.com/questions/27757732/find-uncertainty-from-polyfit  \n",
    "# print(np.sqrt(np.diag(cov)))\n",
    "print(\"m error = \",np.sqrt(np.diag(cov))[0]) \n",
    "print(\"b error = \",np.sqrt(np.diag(cov))[1])"
   ]
  },
  {
   "cell_type": "code",
   "execution_count": 177,
   "metadata": {
    "collapsed": false,
    "scrolled": true
   },
   "outputs": [
    {
     "name": "stdout",
     "output_type": "stream",
     "text": [
      "chi^2 =  0.0425628571429\n",
      "s value =  0.894427191\n",
      "chi-sq differs from 1 by more than the s value. Check model.\n"
     ]
    }
   ],
   "source": [
    "##############################\n",
    "## error analysis: chi-squared: How well does the model fit the data?\n",
    "##############################\n",
    "# compute the residuals:\n",
    "residuals = y_values - polyfxn\n",
    "sum_res = np.sum(residuals**2)\n",
    "chi2 = (np.size(y_values)-np.size(p))**(-1)*np.sum( (residuals/ydata_std)**2 )  \n",
    "#print \"sum of residuals = \",sum_res\n",
    "print(\"chi^2 = \",chi2)\n",
    "s_val = 2/np.sqrt(np.size(y_values)-np.size(p))\n",
    "print(\"s value = \",s_val)\n",
    "# check: Does chi-sq differ from 1 by more than s?\n",
    "if ((chi2+s_val)>1) and ((chi2-s_val)<1):\n",
    "    print(\"chi-sq differs from 1 by less than the s value. Model is ok.\")\n",
    "else:\n",
    "    print(\"chi-sq differs from 1 by more than the s value. Check model.\")"
   ]
  },
  {
   "cell_type": "code",
   "execution_count": 178,
   "metadata": {
    "collapsed": false
   },
   "outputs": [
    {
     "data": {
      "image/png": "[encoded data removed]",
      "text/plain": [
       "<matplotlib.figure.Figure at 0x7f10d052d400>"
      ]
     },
     "metadata": {},
     "output_type": "display_data"
    }
   ],
   "source": [
    "##############################  \n",
    "## plotting ##################  \n",
    "##############################  \n",
    "plt.figure(1)  \n",
    "plt.clf()  \n",
    "plt.errorbar(x_values,y_values,yerr=ydata_std, fmt='.',label='original fxn')  \n",
    "plt.plot(x_values,polyfxn,'.-r',label='poly fit fxn')  \n",
    "plt.xlabel(xaxis_label,fontsize=15)  \n",
    "plt.ylabel(yaxis_label,fontsize=15)  \n",
    "plt.grid()  \n",
    "plt.title(title,fontsize=15)  \n",
    "plt.legend(frameon=False,loc=2)   \n",
    "plt.tight_layout()\n",
    "# plt.savefig('polyfit data.png')  \n",
    "  \n",
    "# Info about legend:  \n",
    "#    http://matplotlib.org/api/legend_api.html  "
   ]
  },
  {
   "cell_type": "code",
   "execution_count": null,
   "metadata": {
    "collapsed": true
   },
   "outputs": [],
   "source": []
  },
  {
   "cell_type": "code",
   "execution_count": null,
   "metadata": {
    "collapsed": true
   },
   "outputs": [],
   "source": []
  }
 ],
 "metadata": {
  "kernelspec": {
   "display_name": "Python 3",
   "language": "python",
   "name": "python3"
  },
  "language_info": {
   "codemirror_mode": {
    "name": "ipython",
    "version": 3
   },
   "file_extension": ".py",
   "mimetype": "text/x-python",
   "name": "python",
   "nbconvert_exporter": "python",
   "pygments_lexer": "ipython3",
   "version": "3.6.0"
  }
 },
 "nbformat": 4,
 "nbformat_minor": 2
}
